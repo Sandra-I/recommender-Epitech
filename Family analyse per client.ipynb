{
 "cells": [
  {
   "cell_type": "markdown",
   "id": "df080aa5",
   "metadata": {},
   "source": [
    "# Répartition volume entre les différentes familles\n",
    "\n",
    "L'objectif de ce notebook est de calculer pour chaque client la répartition des achats entre les différentes familles."
   ]
  },
  {
   "cell_type": "code",
   "execution_count": 1,
   "id": "dd6bb66a",
   "metadata": {},
   "outputs": [],
   "source": [
    "# !pip3 install pandas"
   ]
  },
  {
   "cell_type": "code",
   "execution_count": 2,
   "id": "4ab5e5fd",
   "metadata": {},
   "outputs": [],
   "source": [
    "import pandas as pd"
   ]
  },
  {
   "cell_type": "code",
   "execution_count": 3,
   "id": "1c1f82d8",
   "metadata": {},
   "outputs": [],
   "source": [
    "df = pd.read_csv('clean_dataset.csv')"
   ]
  },
  {
   "cell_type": "code",
   "execution_count": 4,
   "id": "0a14c187",
   "metadata": {},
   "outputs": [
    {
     "data": {
      "text/html": [
       "<div>\n",
       "<style scoped>\n",
       "    .dataframe tbody tr th:only-of-type {\n",
       "        vertical-align: middle;\n",
       "    }\n",
       "\n",
       "    .dataframe tbody tr th {\n",
       "        vertical-align: top;\n",
       "    }\n",
       "\n",
       "    .dataframe thead th {\n",
       "        text-align: right;\n",
       "    }\n",
       "</style>\n",
       "<table border=\"1\" class=\"dataframe\">\n",
       "  <thead>\n",
       "    <tr style=\"text-align: right;\">\n",
       "      <th></th>\n",
       "      <th>Unnamed: 0</th>\n",
       "      <th>TICKET_ID</th>\n",
       "      <th>MOIS_VENTE</th>\n",
       "      <th>PRIX_NET</th>\n",
       "      <th>FAMILLE</th>\n",
       "      <th>UNIVERS</th>\n",
       "      <th>MAILLE</th>\n",
       "      <th>LIBELLE</th>\n",
       "      <th>CLI_ID</th>\n",
       "    </tr>\n",
       "  </thead>\n",
       "  <tbody>\n",
       "    <tr>\n",
       "      <th>0</th>\n",
       "      <td>0</td>\n",
       "      <td>35592159</td>\n",
       "      <td>10</td>\n",
       "      <td>1.67</td>\n",
       "      <td>HYGIENE</td>\n",
       "      <td>DOUCHE</td>\n",
       "      <td>JARDIMONDE</td>\n",
       "      <td>GD JDM4 PAMPLEMOUSSE FL 200ML</td>\n",
       "      <td>1490281</td>\n",
       "    </tr>\n",
       "    <tr>\n",
       "      <th>1</th>\n",
       "      <td>1</td>\n",
       "      <td>35592159</td>\n",
       "      <td>10</td>\n",
       "      <td>1.66</td>\n",
       "      <td>HYGIENE</td>\n",
       "      <td>DOUCHE</td>\n",
       "      <td>JARDIMONDE</td>\n",
       "      <td>GD JDM4 PAMPLEMOUSSE FL 200ML</td>\n",
       "      <td>1490281</td>\n",
       "    </tr>\n",
       "    <tr>\n",
       "      <th>2</th>\n",
       "      <td>2</td>\n",
       "      <td>35592159</td>\n",
       "      <td>10</td>\n",
       "      <td>7.45</td>\n",
       "      <td>SOINS DU VISAGE</td>\n",
       "      <td>JEUNES</td>\n",
       "      <td>CREMES JOUR</td>\n",
       "      <td>CR JR PARF BIO.SPE AC.SENT.50ML</td>\n",
       "      <td>1490281</td>\n",
       "    </tr>\n",
       "    <tr>\n",
       "      <th>3</th>\n",
       "      <td>3</td>\n",
       "      <td>35592159</td>\n",
       "      <td>10</td>\n",
       "      <td>5.95</td>\n",
       "      <td>SOINS DU VISAGE</td>\n",
       "      <td>ANTI-AGE ANTI-RIDES</td>\n",
       "      <td>DEMAQUILLANTS</td>\n",
       "      <td>EAU MICELLAIRE 3 THES FL200ML</td>\n",
       "      <td>1490281</td>\n",
       "    </tr>\n",
       "    <tr>\n",
       "      <th>4</th>\n",
       "      <td>4</td>\n",
       "      <td>35592159</td>\n",
       "      <td>10</td>\n",
       "      <td>1.67</td>\n",
       "      <td>HYGIENE</td>\n",
       "      <td>DOUCHE</td>\n",
       "      <td>JARDIMONDE</td>\n",
       "      <td>GD JDM4 TIARE FL 200ML</td>\n",
       "      <td>1490281</td>\n",
       "    </tr>\n",
       "  </tbody>\n",
       "</table>\n",
       "</div>"
      ],
      "text/plain": [
       "   Unnamed: 0  TICKET_ID  MOIS_VENTE  PRIX_NET          FAMILLE  \\\n",
       "0           0   35592159          10      1.67          HYGIENE   \n",
       "1           1   35592159          10      1.66          HYGIENE   \n",
       "2           2   35592159          10      7.45  SOINS DU VISAGE   \n",
       "3           3   35592159          10      5.95  SOINS DU VISAGE   \n",
       "4           4   35592159          10      1.67          HYGIENE   \n",
       "\n",
       "               UNIVERS         MAILLE                          LIBELLE  \\\n",
       "0               DOUCHE     JARDIMONDE    GD JDM4 PAMPLEMOUSSE FL 200ML   \n",
       "1               DOUCHE     JARDIMONDE    GD JDM4 PAMPLEMOUSSE FL 200ML   \n",
       "2               JEUNES    CREMES JOUR  CR JR PARF BIO.SPE AC.SENT.50ML   \n",
       "3  ANTI-AGE ANTI-RIDES  DEMAQUILLANTS    EAU MICELLAIRE 3 THES FL200ML   \n",
       "4               DOUCHE     JARDIMONDE           GD JDM4 TIARE FL 200ML   \n",
       "\n",
       "    CLI_ID  \n",
       "0  1490281  \n",
       "1  1490281  \n",
       "2  1490281  \n",
       "3  1490281  \n",
       "4  1490281  "
      ]
     },
     "execution_count": 4,
     "metadata": {},
     "output_type": "execute_result"
    }
   ],
   "source": [
    "df.head()"
   ]
  },
  {
   "cell_type": "code",
   "execution_count": 5,
   "id": "1d0d44bd",
   "metadata": {},
   "outputs": [
    {
     "data": {
      "text/plain": [
       "(7245425, 9)"
      ]
     },
     "execution_count": 5,
     "metadata": {},
     "output_type": "execute_result"
    }
   ],
   "source": [
    "df.shape"
   ]
  },
  {
   "cell_type": "markdown",
   "id": "8b6a4ac9",
   "metadata": {},
   "source": [
    "### Récupération des deux colonnes client_id et famille"
   ]
  },
  {
   "cell_type": "code",
   "execution_count": 7,
   "id": "97c67bd1",
   "metadata": {},
   "outputs": [
    {
     "name": "stdout",
     "output_type": "stream",
     "text": [
      "            CLI_ID          FAMILLE\n",
      "0          1490281          HYGIENE\n",
      "1          1490281          HYGIENE\n",
      "2          1490281  SOINS DU VISAGE\n",
      "3          1490281  SOINS DU VISAGE\n",
      "4          1490281          HYGIENE\n",
      "...            ...              ...\n",
      "7245420  997385337   SOINS DU CORPS\n",
      "7245421  997385337          HYGIENE\n",
      "7245422  997385337       MAQUILLAGE\n",
      "7245423  997385337       MAQUILLAGE\n",
      "7245424  997385337       MAQUILLAGE\n",
      "\n",
      "[7245425 rows x 2 columns]\n"
     ]
    }
   ],
   "source": [
    "df_family_client = df[[\"CLI_ID\", \"FAMILLE\"]]\n",
    "print(df_family_client)"
   ]
  },
  {
   "cell_type": "markdown",
   "id": "d9aeb8e5",
   "metadata": {},
   "source": [
    "#### Nombre d'occurence de chaque famille"
   ]
  },
  {
   "cell_type": "code",
   "execution_count": 8,
   "id": "eda87930",
   "metadata": {},
   "outputs": [
    {
     "data": {
      "text/plain": [
       "HYGIENE            2095077\n",
       "MAQUILLAGE         1694751\n",
       "SOINS DU VISAGE    1494002\n",
       "SOINS DU CORPS      878923\n",
       "PARFUMAGE           628053\n",
       "CAPILLAIRES         301365\n",
       "SOLAIRES            153254\n",
       "Name: FAMILLE, dtype: int64"
      ]
     },
     "execution_count": 8,
     "metadata": {},
     "output_type": "execute_result"
    }
   ],
   "source": [
    "df_family_client[\"FAMILLE\"].value_counts(dropna=False)"
   ]
  },
  {
   "cell_type": "markdown",
   "id": "cc7c5d1d",
   "metadata": {},
   "source": [
    "#### Nombre d'occurence de chaque famille par client"
   ]
  },
  {
   "cell_type": "code",
   "execution_count": 9,
   "id": "57900eaf",
   "metadata": {},
   "outputs": [
    {
     "data": {
      "text/plain": [
       "CLI_ID     FAMILLE        \n",
       "1490281    HYGIENE             3\n",
       "           SOINS DU VISAGE     2\n",
       "13290776   HYGIENE             3\n",
       "           PARFUMAGE           3\n",
       "           SOINS DU CORPS      3\n",
       "                              ..\n",
       "997048777  CAPILLAIRES         1\n",
       "997385337  MAQUILLAGE         12\n",
       "           SOLAIRES            6\n",
       "           SOINS DU CORPS      4\n",
       "           HYGIENE             1\n",
       "Name: FAMILLE, Length: 2277721, dtype: int64"
      ]
     },
     "execution_count": 9,
     "metadata": {},
     "output_type": "execute_result"
    }
   ],
   "source": [
    "# Résultat tableau multi index\n",
    "df_family_client.groupby(\"CLI_ID\")[\"FAMILLE\"].value_counts()"
   ]
  },
  {
   "cell_type": "markdown",
   "id": "4d66e35c",
   "metadata": {},
   "source": [
    "#### Reconstitution d'un tableau single index"
   ]
  },
  {
   "cell_type": "code",
   "execution_count": 13,
   "id": "70736317",
   "metadata": {},
   "outputs": [
    {
     "data": {
      "text/html": [
       "<div>\n",
       "<style scoped>\n",
       "    .dataframe tbody tr th:only-of-type {\n",
       "        vertical-align: middle;\n",
       "    }\n",
       "\n",
       "    .dataframe tbody tr th {\n",
       "        vertical-align: top;\n",
       "    }\n",
       "\n",
       "    .dataframe thead th {\n",
       "        text-align: right;\n",
       "    }\n",
       "</style>\n",
       "<table border=\"1\" class=\"dataframe\">\n",
       "  <thead>\n",
       "    <tr style=\"text-align: right;\">\n",
       "      <th>FAMILLE</th>\n",
       "      <th>CAPILLAIRES</th>\n",
       "      <th>HYGIENE</th>\n",
       "      <th>MAQUILLAGE</th>\n",
       "      <th>PARFUMAGE</th>\n",
       "      <th>SOINS DU CORPS</th>\n",
       "      <th>SOINS DU VISAGE</th>\n",
       "      <th>SOLAIRES</th>\n",
       "    </tr>\n",
       "    <tr>\n",
       "      <th>CLI_ID</th>\n",
       "      <th></th>\n",
       "      <th></th>\n",
       "      <th></th>\n",
       "      <th></th>\n",
       "      <th></th>\n",
       "      <th></th>\n",
       "      <th></th>\n",
       "    </tr>\n",
       "  </thead>\n",
       "  <tbody>\n",
       "    <tr>\n",
       "      <th>1490281</th>\n",
       "      <td>0</td>\n",
       "      <td>3</td>\n",
       "      <td>0</td>\n",
       "      <td>0</td>\n",
       "      <td>0</td>\n",
       "      <td>2</td>\n",
       "      <td>0</td>\n",
       "    </tr>\n",
       "    <tr>\n",
       "      <th>13290776</th>\n",
       "      <td>0</td>\n",
       "      <td>3</td>\n",
       "      <td>0</td>\n",
       "      <td>3</td>\n",
       "      <td>3</td>\n",
       "      <td>0</td>\n",
       "      <td>0</td>\n",
       "    </tr>\n",
       "    <tr>\n",
       "      <th>20163348</th>\n",
       "      <td>0</td>\n",
       "      <td>0</td>\n",
       "      <td>1</td>\n",
       "      <td>0</td>\n",
       "      <td>0</td>\n",
       "      <td>0</td>\n",
       "      <td>0</td>\n",
       "    </tr>\n",
       "    <tr>\n",
       "      <th>20200041</th>\n",
       "      <td>0</td>\n",
       "      <td>0</td>\n",
       "      <td>0</td>\n",
       "      <td>0</td>\n",
       "      <td>1</td>\n",
       "      <td>1</td>\n",
       "      <td>0</td>\n",
       "    </tr>\n",
       "    <tr>\n",
       "      <th>20561854</th>\n",
       "      <td>1</td>\n",
       "      <td>1</td>\n",
       "      <td>1</td>\n",
       "      <td>0</td>\n",
       "      <td>0</td>\n",
       "      <td>0</td>\n",
       "      <td>0</td>\n",
       "    </tr>\n",
       "    <tr>\n",
       "      <th>...</th>\n",
       "      <td>...</td>\n",
       "      <td>...</td>\n",
       "      <td>...</td>\n",
       "      <td>...</td>\n",
       "      <td>...</td>\n",
       "      <td>...</td>\n",
       "      <td>...</td>\n",
       "    </tr>\n",
       "    <tr>\n",
       "      <th>997048745</th>\n",
       "      <td>0</td>\n",
       "      <td>0</td>\n",
       "      <td>4</td>\n",
       "      <td>0</td>\n",
       "      <td>0</td>\n",
       "      <td>0</td>\n",
       "      <td>0</td>\n",
       "    </tr>\n",
       "    <tr>\n",
       "      <th>997048751</th>\n",
       "      <td>0</td>\n",
       "      <td>2</td>\n",
       "      <td>1</td>\n",
       "      <td>1</td>\n",
       "      <td>1</td>\n",
       "      <td>0</td>\n",
       "      <td>0</td>\n",
       "    </tr>\n",
       "    <tr>\n",
       "      <th>997048769</th>\n",
       "      <td>0</td>\n",
       "      <td>0</td>\n",
       "      <td>9</td>\n",
       "      <td>0</td>\n",
       "      <td>0</td>\n",
       "      <td>1</td>\n",
       "      <td>0</td>\n",
       "    </tr>\n",
       "    <tr>\n",
       "      <th>997048777</th>\n",
       "      <td>1</td>\n",
       "      <td>6</td>\n",
       "      <td>3</td>\n",
       "      <td>0</td>\n",
       "      <td>3</td>\n",
       "      <td>6</td>\n",
       "      <td>0</td>\n",
       "    </tr>\n",
       "    <tr>\n",
       "      <th>997385337</th>\n",
       "      <td>0</td>\n",
       "      <td>1</td>\n",
       "      <td>12</td>\n",
       "      <td>0</td>\n",
       "      <td>4</td>\n",
       "      <td>0</td>\n",
       "      <td>6</td>\n",
       "    </tr>\n",
       "  </tbody>\n",
       "</table>\n",
       "<p>853511 rows × 7 columns</p>\n",
       "</div>"
      ],
      "text/plain": [
       "FAMILLE    CAPILLAIRES  HYGIENE  MAQUILLAGE  PARFUMAGE  SOINS DU CORPS  \\\n",
       "CLI_ID                                                                   \n",
       "1490281              0        3           0          0               0   \n",
       "13290776             0        3           0          3               3   \n",
       "20163348             0        0           1          0               0   \n",
       "20200041             0        0           0          0               1   \n",
       "20561854             1        1           1          0               0   \n",
       "...                ...      ...         ...        ...             ...   \n",
       "997048745            0        0           4          0               0   \n",
       "997048751            0        2           1          1               1   \n",
       "997048769            0        0           9          0               0   \n",
       "997048777            1        6           3          0               3   \n",
       "997385337            0        1          12          0               4   \n",
       "\n",
       "FAMILLE    SOINS DU VISAGE  SOLAIRES  \n",
       "CLI_ID                                \n",
       "1490281                  2         0  \n",
       "13290776                 0         0  \n",
       "20163348                 0         0  \n",
       "20200041                 1         0  \n",
       "20561854                 0         0  \n",
       "...                    ...       ...  \n",
       "997048745                0         0  \n",
       "997048751                0         0  \n",
       "997048769                1         0  \n",
       "997048777                6         0  \n",
       "997385337                0         6  \n",
       "\n",
       "[853511 rows x 7 columns]"
      ]
     },
     "execution_count": 13,
     "metadata": {},
     "output_type": "execute_result"
    }
   ],
   "source": [
    "df_family_repartition = df_family_client.groupby(\"CLI_ID\")[\"FAMILLE\"].value_counts().unstack(fill_value=0)\n",
    "df_family_repartition"
   ]
  },
  {
   "cell_type": "code",
   "execution_count": 14,
   "id": "da7e0c3c",
   "metadata": {},
   "outputs": [],
   "source": [
    "# exportation en csv\n",
    "# df_family_repartition.to_csv('family_repartition_dataset.csv')"
   ]
  }
 ],
 "metadata": {
  "kernelspec": {
   "display_name": "Python 3 (ipykernel)",
   "language": "python",
   "name": "python3"
  },
  "language_info": {
   "codemirror_mode": {
    "name": "ipython",
    "version": 3
   },
   "file_extension": ".py",
   "mimetype": "text/x-python",
   "name": "python",
   "nbconvert_exporter": "python",
   "pygments_lexer": "ipython3",
   "version": "3.9.5"
  }
 },
 "nbformat": 4,
 "nbformat_minor": 5
}
