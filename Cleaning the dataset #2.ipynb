{
 "cells": [
  {
   "cell_type": "markdown",
   "id": "sapphire-cleveland",
   "metadata": {},
   "source": [
    "# Nettoyage du jeu de données\n",
    "\n",
    "Ce jeu de données contient plus de 7,2 millions d'articles vendus. Cependant après analyse on se rend compte qu'il y a un travail de recatégorisation concernant les familles, les univers et les mailles.\n",
    "\n",
    "La colonne maille correspond en fait à la colonne univers. Certains univers et mailles sont trop restreints et il est nécessaire de généraliser et de concaténer certaines catégories.\n",
    "\n",
    "De plus certaines mailles sont dans le mauvais univers. \n",
    "\n",
    "Le but de ce notebook est de faire ressortir un jeu de données propres avec les articles bien catégorisés.\n",
    "\n",
    "## Importation du jeu de données\n"
   ]
  },
  {
   "cell_type": "code",
   "execution_count": 1,
   "id": "indonesian-journalist",
   "metadata": {},
   "outputs": [],
   "source": [
    "import pandas as pd\n",
    "import matplotlib.pyplot as plt\n",
    "import seaborn as sns"
   ]
  },
  {
   "cell_type": "code",
   "execution_count": 2,
   "id": "breathing-witness",
   "metadata": {},
   "outputs": [],
   "source": [
    "pd.set_option('display.max_rows', 200)"
   ]
  },
  {
   "cell_type": "code",
   "execution_count": 3,
   "id": "inclusive-cornwall",
   "metadata": {},
   "outputs": [],
   "source": [
    "df = pd.read_csv('KaDo.csv')"
   ]
  },
  {
   "cell_type": "markdown",
   "id": "female-battlefield",
   "metadata": {},
   "source": [
    "## Nettoyage de la colonne FAMILLE"
   ]
  },
  {
   "cell_type": "markdown",
   "id": "preliminary-bidder",
   "metadata": {},
   "source": [
    "### Suppression des catégories MULTI FAMILLES et SANTE NATURELLE contenant uniquement 31 articles. "
   ]
  },
  {
   "cell_type": "code",
   "execution_count": 4,
   "id": "broken-daily",
   "metadata": {},
   "outputs": [],
   "source": [
    "df = df[(df.FAMILLE != 'MULTI FAMILLES') & (df.FAMILLE != 'SANTE NATURELLE')]"
   ]
  },
  {
   "cell_type": "code",
   "execution_count": 5,
   "id": "experienced-feeling",
   "metadata": {},
   "outputs": [
    {
     "data": {
      "text/plain": [
       "HYGIENE            2095077\n",
       "MAQUILLAGE         1694751\n",
       "SOINS DU VISAGE    1494034\n",
       "SOINS DU CORPS      878923\n",
       "PARFUMAGE           628087\n",
       "CAPILLAIRES         301365\n",
       "SOLAIRES            153254\n",
       "Name: FAMILLE, dtype: int64"
      ]
     },
     "execution_count": 5,
     "metadata": {},
     "output_type": "execute_result"
    }
   ],
   "source": [
    "df['FAMILLE'].value_counts()"
   ]
  },
  {
   "cell_type": "markdown",
   "id": "following-covering",
   "metadata": {},
   "source": [
    "### Inversion des noms des colonnes Maille et Univers et repositionnement des colonnes dans l'ordre FAMILLE UNIVERS MAILLE"
   ]
  },
  {
   "cell_type": "code",
   "execution_count": 6,
   "id": "minor-johns",
   "metadata": {},
   "outputs": [],
   "source": [
    "df = df.rename({'UNIVERS': 'MAILLE', 'MAILLE': 'UNIVERS'}, axis=\"columns\")"
   ]
  },
  {
   "cell_type": "code",
   "execution_count": 7,
   "id": "stylish-terrorist",
   "metadata": {},
   "outputs": [],
   "source": [
    "def string_cleaner(x):\n",
    "    split_maille = x.split('_')\n",
    "    if (len(split_maille) > 1):\n",
    "        maille = ' '.join(split_maille[1:])\n",
    "    else:\n",
    "        maille = split_maille[0]\n",
    "    return maille"
   ]
  },
  {
   "cell_type": "code",
   "execution_count": 8,
   "id": "experienced-visit",
   "metadata": {
    "scrolled": false
   },
   "outputs": [],
   "source": [
    "df['UNIVERS'] = df['UNIVERS'].apply(string_cleaner)"
   ]
  },
  {
   "cell_type": "code",
   "execution_count": 9,
   "id": "caring-jenny",
   "metadata": {},
   "outputs": [],
   "source": [
    "df['MAILLE'] = df['MAILLE'].apply(string_cleaner)"
   ]
  },
  {
   "cell_type": "code",
   "execution_count": 10,
   "id": "interpreted-supervisor",
   "metadata": {},
   "outputs": [],
   "source": [
    "# Repositionne la colonne UNIVERS avant la colonne MAILLE\n",
    "df = df.reindex(['TICKET_ID', 'MOIS_VENTE', 'PRIX_NET', 'FAMILLE', 'UNIVERS', 'MAILLE',\n",
    "       'LIBELLE', 'CLI_ID'], axis=1)"
   ]
  },
  {
   "cell_type": "markdown",
   "id": "promotional-grade",
   "metadata": {},
   "source": [
    "### Renommage de certaines catégories et concaténation d'univers similaires"
   ]
  },
  {
   "cell_type": "code",
   "execution_count": 11,
   "id": "immediate-nutrition",
   "metadata": {},
   "outputs": [],
   "source": [
    "univers_map = {\n",
    "    'JDM': 'JARDINMONDE',\n",
    "    'JEUNE ET LEVRE':'JEUNES',\n",
    "    'PLAISIRNAT BAIN SAVON': 'PLAISIRNATURE',\n",
    "    'HYDRA NOURRI ET SOINS':'HYDRATANT NOURRISSANT SOINS',\n",
    "    'HYDR LAIT HUILE': 'LAIT HUILE',\n",
    "    'YEUX CLASSIQUE': 'YEUX',\n",
    "    'YEUX MASCA EYEL FARD': 'YEUX', \n",
    "    'AAAR HORS DEMAQLOTION':'ANTI-AGE ANTI-RIDES',\n",
    "    'MONOI ET EDIT SPEC': 'MONOI',\n",
    "    'MONOI': 'MONOI',\n",
    "    'EDT': 'EAU DE TOILETTE',\n",
    "    'HOMME':'HOMMES',\n",
    "    'LEV RAL HMG':'LEVRES',\n",
    "    'LEV BASPRIX':'LEVRES', \n",
    "    'AAAR DEMAQLOTION':'ANTI-AGE ANTI-RIDES',\n",
    "    'CULTUREBIO':'BIO',\n",
    "    'YEUX MASCA HG':'YEUX',\n",
    "    'PUR': 'NETTOYANT',\n",
    "    'AUTRE': 'CHEVEUX'\n",
    "}"
   ]
  },
  {
   "cell_type": "code",
   "execution_count": 12,
   "id": "upset-belize",
   "metadata": {},
   "outputs": [],
   "source": [
    "df['UNIVERS'].replace(univers_map, inplace=True)"
   ]
  },
  {
   "cell_type": "code",
   "execution_count": 13,
   "id": "interior-norwegian",
   "metadata": {
    "scrolled": false
   },
   "outputs": [
    {
     "name": "stdout",
     "output_type": "stream",
     "text": [
      "ANTI-AGE ANTI-RIDES\n",
      "-----\n",
      "CJOUR AAAR      182740\n",
      "DEMAQ AAAR       77767\n",
      "CNUIT AAAR       51388\n",
      "TRAIT AAAR       48151\n",
      "LOTIONS AAAR     15415\n",
      "MASQUE AAAR       3348\n",
      "Name: MAILLE, dtype: int64\n",
      "    \n",
      "AUTRES\n",
      "-----\n",
      "DEMAQ BLEUET            175956\n",
      "DOUCHE HAMMAM            30611\n",
      "DOUCHE FRAICHEUR VEG     15180\n",
      "DOUCHE AUTRES            10314\n",
      "CNUIT Autres                20\n",
      "LOTIONS Autres              12\n",
      "DEO AUTRES                   8\n",
      "Name: MAILLE, dtype: int64\n",
      "    \n",
      "BIO\n",
      "-----\n",
      "DOUCHE CULTUREBIO    51642\n",
      "DEO CULTURE BIO      11549\n",
      "CJOUR BIO             6460\n",
      "DEMAQ BIO             2255\n",
      "CNUIT BIO              394\n",
      "TRAIT BIO              325\n",
      "LOTIONS BIO              1\n",
      "Name: MAILLE, dtype: int64\n",
      "    \n",
      "CHEVEUX\n",
      "-----\n",
      "AP SHAMP                52126\n",
      "TRAITEMENT              34608\n",
      "TENUE DE LA COIFFURE    17395\n",
      "Autres                   6264\n",
      "Name: MAILLE, dtype: int64\n",
      "    \n",
      "EAU DE TOILETTE\n",
      "-----\n",
      "EAUX PLAISIR NATURE    168525\n",
      "EAUX MONOI              16662\n",
      "EAUX EDIT NOEL ETE      16380\n",
      "EAUX AUTRES                34\n",
      "Name: MAILLE, dtype: int64\n",
      "    \n",
      "HOMMES\n",
      "-----\n",
      "DOUCHE HOMMES    58037\n",
      "EAUX HOMMES      56550\n",
      "SOIN HOMMES      30337\n",
      "DEO HOMMES       26506\n",
      "APRES RASAGE     12274\n",
      "RASAGE            8667\n",
      "Name: MAILLE, dtype: int64\n",
      "    \n",
      "HYDRATANT NOURRISSANT SOINS\n",
      "-----\n",
      "SOIN DES MAINS          231810\n",
      "HYDRA NOURRISANT        162539\n",
      "SOIN PIEDS ET JAMBES    108834\n",
      "SOINS CORPS ANTI-AGE      9995\n",
      "Name: MAILLE, dtype: int64\n",
      "    \n",
      "JARDINMONDE\n",
      "-----\n",
      "DOUCHE JARDINMONDE    762858\n",
      "DEO JARDINMONDE        69757\n",
      "Name: MAILLE, dtype: int64\n",
      "    \n",
      "JEUNES\n",
      "-----\n",
      "SOIN LEVRES                  238731\n",
      "MASQUE Jeunes Specifique     140993\n",
      "DEMAQ Jeunes Specifique      132980\n",
      "CJOUR Jeunes Specifique      126837\n",
      "LOTIONS Jeunes Specifique     42412\n",
      "TRAIT Jeunes Specifique       33301\n",
      "CNUIT Jeunes Specifique        4529\n",
      "CJOUR Autres                     22\n",
      "DEMAQ Autres                      3\n",
      "Name: MAILLE, dtype: int64\n",
      "    \n",
      "LAIT HUILE\n",
      "-----\n",
      "LAIT HUILE PLAISIRNATURE    113045\n",
      "LAIT HUILE PARFUMS           49314\n",
      "LAIT HUILE AUTRES            26727\n",
      "EAUX CORPS AUTRES             4320\n",
      "Name: MAILLE, dtype: int64\n",
      "    \n",
      "LEVRES\n",
      "-----\n",
      "LEV RAL Lum4         48725\n",
      "LEV BRILLANT         45155\n",
      "LEV RAL Brillance    40826\n",
      "LEV RAL Hydr         38866\n",
      "LEV RAL GrdRouge     31434\n",
      "LEV AUTRES           27952\n",
      "LEV RAL Autres          62\n",
      "Name: MAILLE, dtype: int64\n",
      "    \n",
      "MONOI ET EDITIONS SPECIALES\n",
      "-----\n",
      "DOUCHE EDT NOEL     150214\n",
      "DOUCHE MONOI         64402\n",
      "LAIT HUILE MONOI     52991\n",
      "DOUCHE EDT ETE       26778\n",
      "EAUX CORPS MONOI     20588\n",
      "Name: MAILLE, dtype: int64\n",
      "    \n",
      "NETTOYANT\n",
      "-----\n",
      "DEMAQ PUR     120622\n",
      "CJOUR PUR      41445\n",
      "MASQUE PUR     17590\n",
      "Name: MAILLE, dtype: int64\n",
      "    \n",
      "ONGLES\n",
      "-----\n",
      "ONG Vernis LUM    271075\n",
      "ONG AUTRES         99021\n",
      "ONG Vernis CN      85574\n",
      "Name: MAILLE, dtype: int64\n",
      "    \n",
      "PARFUM\n",
      "-----\n",
      "PARF ET EAU DE PARF    160785\n",
      "EAUX PARFUMS           108994\n",
      "EAUX DE COLOGNE         87883\n",
      "Name: MAILLE, dtype: int64\n",
      "    \n",
      "PARFUMEE\n",
      "-----\n",
      "DOUCHE PARFUMS    101568\n",
      "DEO PARFUMS        40653\n",
      "Name: MAILLE, dtype: int64\n",
      "    \n",
      "PLAISIRNATURE\n",
      "-----\n",
      "DOUCHE PLAISIRNATURE    376849\n",
      "BAIN SEL HUILE PERLE    155058\n",
      "SAVONS                  134426\n",
      "Name: MAILLE, dtype: int64\n",
      "    \n",
      "SHAMPOING\n",
      "-----\n",
      "SHAMP SPECIFIQUE    69457\n",
      "SHAMP TSCHEVEUX     68820\n",
      "SHAMP TRAITANT      58959\n",
      "Name: MAILLE, dtype: int64\n",
      "    \n",
      "SOLAIRE\n",
      "-----\n",
      "APRES SOLEIL            80705\n",
      "PROTECTEURS SOLAIRES    41441\n",
      "AUTOBRONZANTS           31108\n",
      "Name: MAILLE, dtype: int64\n",
      "    \n",
      "SPA ET MINCEUR\n",
      "-----\n",
      "EXFOLIANT CORPS     50150\n",
      "PRODUITS MINCEUR    32439\n",
      "SOINS HAMMAM        16171\n",
      "Name: MAILLE, dtype: int64\n",
      "    \n",
      "TEINT\n",
      "-----\n",
      "TEINT Font teint            113721\n",
      "TEINT Poudres                95276\n",
      "TEINT Perfect Correcteur     54321\n",
      "TEINT Fard a joues           30982\n",
      "Name: MAILLE, dtype: int64\n",
      "    \n",
      "YEUX\n",
      "-----\n",
      "YEUX Stylos                151146\n",
      "YEUX Crayons               137868\n",
      "YEUX Fard                  129906\n",
      "YEUX Mascara Specifique     83132\n",
      "YEUX Mascara SexyPulp       57878\n",
      "YEUX Eyeliner               57545\n",
      "YEUX Mascara Vertige        40288\n",
      "YEUX Sourcils               24074\n",
      "YEUX Mascara Basic          15774\n",
      "YEUX Mascara Elixir          7885\n",
      "YEUX Autres                     1\n",
      "Name: MAILLE, dtype: int64\n",
      "    \n"
     ]
    }
   ],
   "source": [
    "univers = df['UNIVERS'].value_counts().sort_index().index\n",
    "for uni in univers:\n",
    "    print(uni)\n",
    "    print('-----')\n",
    "    print(df[df['UNIVERS'] == uni]['MAILLE'].value_counts())\n",
    "    print('    ')"
   ]
  },
  {
   "cell_type": "markdown",
   "id": "8d982c4d",
   "metadata": {},
   "source": [
    "**Univers DOUCHE**"
   ]
  },
  {
   "cell_type": "markdown",
   "id": "8aa38e78",
   "metadata": {},
   "source": [
    "Après analyse, on se rend compte que les produits **\"DOUCHE\"** sont récurrents. Il parait pertinent de les regrouper dans un univers."
   ]
  },
  {
   "cell_type": "code",
   "execution_count": 14,
   "id": "e5006796",
   "metadata": {},
   "outputs": [],
   "source": [
    "maille_douche_to_update = [\n",
    "    'DOUCHE JARDINMONDE',\n",
    "    'DOUCHE PLAISIRNATURE',\n",
    "    'DOUCHE EDT NOEL',\n",
    "    'DOUCHE MONOI',\n",
    "    'DOUCHE EDT ETE',\n",
    "    'DOUCHE HAMMAM',\n",
    "    'DOUCHE FRAICHEUR VEG',\n",
    "    'DOUCHE AUTRES',\n",
    "    'DOUCHE HOMMES',\n",
    "    'DOUCHE PARFUMS',\n",
    "    'DOUCHE CULTUREBIO'\n",
    "]"
   ]
  },
  {
   "cell_type": "code",
   "execution_count": 15,
   "id": "468a1987",
   "metadata": {},
   "outputs": [],
   "source": [
    "df.loc[df['MAILLE'].isin(maille_douche_to_update), 'UNIVERS'] = 'DOUCHE'"
   ]
  },
  {
   "cell_type": "code",
   "execution_count": 16,
   "id": "b84bb800",
   "metadata": {},
   "outputs": [],
   "source": [
    "maille_douche = {\n",
    "    'DOUCHE JARDINMONDE': 'JARDIMONDE',\n",
    "    'DOUCHE PLAISIRNATURE': 'PLAISIRNATURE',\n",
    "    'DOUCHE EDT NOEL': 'EDITION NOEL',\n",
    "    'DOUCHE MONOI': 'MONOI',\n",
    "    'DOUCHE EDT ETE': 'EDITION ETE',\n",
    "    'DOUCHE HAMMAM': 'HAMMAM',\n",
    "    'DOUCHE FRAICHEUR VEG': 'FRAICHEUR VEGAN',\n",
    "    'DOUCHE AUTRES': 'AUTRES',\n",
    "    'DOUCHE HOMMES': 'HOMMES',\n",
    "    'DOUCHE PARFUMS': 'PARFUMEE',\n",
    "    'DOUCHE CULTUREBIO': 'CULTURE BIO'\n",
    "}"
   ]
  },
  {
   "cell_type": "code",
   "execution_count": 17,
   "id": "c936439c",
   "metadata": {},
   "outputs": [],
   "source": [
    "df['MAILLE'].replace(maille_douche, inplace=True)"
   ]
  },
  {
   "cell_type": "code",
   "execution_count": 18,
   "id": "142735a3",
   "metadata": {
    "scrolled": false
   },
   "outputs": [
    {
     "name": "stdout",
     "output_type": "stream",
     "text": [
      "JARDIMONDE         762858\n",
      "PLAISIRNATURE      376849\n",
      "EDITION NOEL       150214\n",
      "PARFUMEE           101568\n",
      "MONOI               64402\n",
      "HOMMES              58037\n",
      "CULTURE BIO         51642\n",
      "HAMMAM              30611\n",
      "EDITION ETE         26778\n",
      "FRAICHEUR VEGAN     15180\n",
      "AUTRES              10314\n",
      "Name: MAILLE, dtype: int64\n"
     ]
    }
   ],
   "source": [
    "print(df[df['UNIVERS'] == 'DOUCHE']['MAILLE'].value_counts())"
   ]
  },
  {
   "cell_type": "markdown",
   "id": "fac6fdc0",
   "metadata": {},
   "source": [
    "**Univers DEO**"
   ]
  },
  {
   "cell_type": "markdown",
   "id": "263038d2",
   "metadata": {},
   "source": [
    "Après analyse, on se rend compte que les produits **\"DEO\"** sont récurrents. Il parait pertinent de les regrouper dans un univers."
   ]
  },
  {
   "cell_type": "code",
   "execution_count": 19,
   "id": "7873c2c6",
   "metadata": {},
   "outputs": [],
   "source": [
    "maille_deo_to_update = [\n",
    "    'DEO JARDINMONDE',\n",
    "    'DEO HOMMES',\n",
    "    'DEO PARFUMS',\n",
    "    'DEO CULTURE BIO',\n",
    "    'DEO AUTRES'\n",
    "]"
   ]
  },
  {
   "cell_type": "code",
   "execution_count": 20,
   "id": "a58f3274",
   "metadata": {},
   "outputs": [],
   "source": [
    "df.loc[df['MAILLE'].isin(maille_deo_to_update), 'UNIVERS'] = 'DEO'"
   ]
  },
  {
   "cell_type": "code",
   "execution_count": 21,
   "id": "ba493d0e",
   "metadata": {},
   "outputs": [],
   "source": [
    "maille_deo = {\n",
    "    'DEO JARDINMONDE': 'JARDIMONDE',\n",
    "    'DEO HOMMES': 'HOMMES',\n",
    "    'DEO PARFUMS': 'PARFUMEE',\n",
    "    'DEO CULTURE BIO': 'CULTURE BIO',\n",
    "    'DEO AUTRES': 'AUTRES'\n",
    "}"
   ]
  },
  {
   "cell_type": "code",
   "execution_count": 22,
   "id": "371d8db8",
   "metadata": {},
   "outputs": [],
   "source": [
    "df['MAILLE'].replace(maille_deo, inplace=True)"
   ]
  },
  {
   "cell_type": "code",
   "execution_count": 23,
   "id": "138e175c",
   "metadata": {},
   "outputs": [
    {
     "name": "stdout",
     "output_type": "stream",
     "text": [
      "JARDIMONDE     69757\n",
      "PARFUMEE       40653\n",
      "HOMMES         26506\n",
      "CULTURE BIO    11549\n",
      "AUTRES             8\n",
      "Name: MAILLE, dtype: int64\n"
     ]
    }
   ],
   "source": [
    "print(df[df['UNIVERS'] == 'DEO']['MAILLE'].value_counts())"
   ]
  },
  {
   "cell_type": "markdown",
   "id": "painful-trade",
   "metadata": {},
   "source": [
    "**Univers JARDINMONDE**"
   ]
  },
  {
   "cell_type": "code",
   "execution_count": 24,
   "id": "developmental-release",
   "metadata": {},
   "outputs": [],
   "source": [
    "maille_jardinmonde = {\n",
    "    'DOUCHE JARDINMONDE': 'DOUCHE',\n",
    "    'DEO JARDINMONDE': 'DEO' \n",
    "}"
   ]
  },
  {
   "cell_type": "code",
   "execution_count": 25,
   "id": "exclusive-spouse",
   "metadata": {},
   "outputs": [],
   "source": [
    "df['MAILLE'].replace(maille_jardinmonde, inplace=True)"
   ]
  },
  {
   "cell_type": "code",
   "execution_count": 26,
   "id": "7e36f250",
   "metadata": {},
   "outputs": [
    {
     "name": "stdout",
     "output_type": "stream",
     "text": [
      "Series([], Name: MAILLE, dtype: int64)\n"
     ]
    }
   ],
   "source": [
    "print(df[df['UNIVERS'] == 'JARDINMONDE']['MAILLE'].value_counts())"
   ]
  },
  {
   "cell_type": "markdown",
   "id": "knowing-spirituality",
   "metadata": {},
   "source": [
    "**Univers JEUNE ET LEVRE**\n",
    "\n",
    "On décide de catégoriser cet univers en JEUNES au lieu de JEUNE ET LEVRE et déplacé la maille SOIN LEVRE dans l'univers LEVRES.\n",
    "\n",
    "On décide également de raccourcir la maille en MASQUE, DEMAQUILLANT, CREME JOUR, LOTIONS, TRAIT, CREME NUIT."
   ]
  },
  {
   "cell_type": "code",
   "execution_count": 27,
   "id": "photographic-train",
   "metadata": {},
   "outputs": [],
   "source": [
    "df.loc[df['MAILLE'] == \"SOIN LEVRES\",'UNIVERS'] = 'LEVRES'\n",
    "df.loc[df['MAILLE'] == \"SOIN LEVRES\",'MAILLE'] = 'SOIN'"
   ]
  },
  {
   "cell_type": "code",
   "execution_count": 28,
   "id": "technical-andrew",
   "metadata": {},
   "outputs": [],
   "source": [
    "maille_jeunes = {\n",
    "    'MASQUE Jeunes Specifique': 'MASQUES',\n",
    "    'DEMAQ Jeunes Specifique': 'DEMAQUILLANT',\n",
    "    'CJOUR Jeunes Specifique': 'CREMES JOUR',\n",
    "    'LOTIONS Jeunes Specifique': 'LOTIONS',\n",
    "    'TRAIT Jeunes Specifique':'TRAITS',\n",
    "    'CNUIT Jeunes Specifique': 'CREMES NUIT',\n",
    "    'CJOUR Autres': 'CREMES JOUR',\n",
    "    'DEMAQ Autres': 'DEMAQUILLANTS'\n",
    "}"
   ]
  },
  {
   "cell_type": "code",
   "execution_count": 29,
   "id": "exceptional-memorial",
   "metadata": {},
   "outputs": [],
   "source": [
    "df['MAILLE'].replace(maille_jeunes, inplace=True)"
   ]
  },
  {
   "cell_type": "code",
   "execution_count": 30,
   "id": "pregnant-spell",
   "metadata": {},
   "outputs": [
    {
     "data": {
      "text/plain": [
       "MASQUES          140993\n",
       "DEMAQUILLANT     132980\n",
       "CREMES JOUR      126859\n",
       "LOTIONS           42412\n",
       "TRAITS            33301\n",
       "CREMES NUIT        4529\n",
       "DEMAQUILLANTS         3\n",
       "Name: MAILLE, dtype: int64"
      ]
     },
     "execution_count": 30,
     "metadata": {},
     "output_type": "execute_result"
    }
   ],
   "source": [
    "df[df['UNIVERS'] == 'JEUNES']['MAILLE'].value_counts()"
   ]
  },
  {
   "cell_type": "markdown",
   "id": "recorded-breach",
   "metadata": {},
   "source": [
    "**Univers YEUX**"
   ]
  },
  {
   "cell_type": "code",
   "execution_count": 31,
   "id": "representative-trunk",
   "metadata": {},
   "outputs": [],
   "source": [
    "maille_yeux = {\n",
    "    'YEUX Stylos':'STYLOS',\n",
    "    'YEUX Crayons':'CRAYONS', \n",
    "    'YEUX Fard':'FARD', \n",
    "    'YEUX Mascara Specifique':'MASCARA',\n",
    "    'YEUX Mascara SexyPulp':'MASCARA', \n",
    "    'YEUX Eyeliner':'EYELINER', \n",
    "    'YEUX Mascara Vertige':'MASCARA',\n",
    "    'YEUX Sourcils':'SOURCILS', \n",
    "    'YEUX Mascara Basic':'MASCARA', \n",
    "    'YEUX Mascara Elixir':'MASCARA',\n",
    "    'YEUX Autres':'AUTRES'\n",
    "}"
   ]
  },
  {
   "cell_type": "code",
   "execution_count": 32,
   "id": "respiratory-conflict",
   "metadata": {},
   "outputs": [],
   "source": [
    "df['MAILLE'].replace(maille_yeux, inplace=True)"
   ]
  },
  {
   "cell_type": "code",
   "execution_count": 33,
   "id": "endless-marsh",
   "metadata": {},
   "outputs": [
    {
     "data": {
      "text/plain": [
       "MASCARA     204957\n",
       "STYLOS      151146\n",
       "CRAYONS     137868\n",
       "FARD        129906\n",
       "EYELINER     57545\n",
       "SOURCILS     24074\n",
       "AUTRES           1\n",
       "Name: MAILLE, dtype: int64"
      ]
     },
     "execution_count": 33,
     "metadata": {},
     "output_type": "execute_result"
    }
   ],
   "source": [
    "df[df['UNIVERS'] == 'YEUX']['MAILLE'].value_counts()"
   ]
  },
  {
   "cell_type": "markdown",
   "id": "minimal-despite",
   "metadata": {},
   "source": [
    "**Univers PLAISIRNATURE**"
   ]
  },
  {
   "cell_type": "code",
   "execution_count": 34,
   "id": "electoral-blood",
   "metadata": {},
   "outputs": [],
   "source": [
    "maille_plaisirnature = {\n",
    "    'DOUCHE PLAISIRNATURE':'DOUCHE',\n",
    "    'BAIN SEL HUILE PERLE':'BAIN'\n",
    "}"
   ]
  },
  {
   "cell_type": "code",
   "execution_count": 35,
   "id": "fantastic-tyler",
   "metadata": {},
   "outputs": [],
   "source": [
    "df['MAILLE'].replace(maille_plaisirnature, inplace=True)"
   ]
  },
  {
   "cell_type": "code",
   "execution_count": 36,
   "id": "ad7997cb",
   "metadata": {},
   "outputs": [
    {
     "data": {
      "text/plain": [
       "BAIN      155058\n",
       "SAVONS    134426\n",
       "Name: MAILLE, dtype: int64"
      ]
     },
     "execution_count": 36,
     "metadata": {},
     "output_type": "execute_result"
    }
   ],
   "source": [
    "df[df['UNIVERS'] == 'PLAISIRNATURE']['MAILLE'].value_counts()"
   ]
  },
  {
   "cell_type": "markdown",
   "id": "artistic-disco",
   "metadata": {},
   "source": [
    "**Univers HYDRATANT NOURRISSANT SOINS**"
   ]
  },
  {
   "cell_type": "code",
   "execution_count": 37,
   "id": "satellite-michael",
   "metadata": {},
   "outputs": [
    {
     "data": {
      "text/plain": [
       "Index(['SOIN DES MAINS', 'HYDRA NOURRISANT', 'SOIN PIEDS ET JAMBES',\n",
       "       'SOINS CORPS ANTI-AGE'],\n",
       "      dtype='object')"
      ]
     },
     "execution_count": 37,
     "metadata": {},
     "output_type": "execute_result"
    }
   ],
   "source": [
    "df[df['UNIVERS'] == 'HYDRATANT NOURRISSANT SOINS']['MAILLE'].value_counts().index"
   ]
  },
  {
   "cell_type": "code",
   "execution_count": 38,
   "id": "noble-research",
   "metadata": {},
   "outputs": [],
   "source": [
    "maille_hydra = {\n",
    "    'SOIN DES MAINS':'SOIN MAINS',\n",
    "    'HYDRA NOURRISANT': 'HYDRATANT NOURISSANT',\n",
    "    'SOINS CORPS ANTI-AGE':'SOIN CORPS'\n",
    "}"
   ]
  },
  {
   "cell_type": "code",
   "execution_count": 39,
   "id": "built-persian",
   "metadata": {},
   "outputs": [],
   "source": [
    "df['MAILLE'].replace(maille_hydra, inplace=True)"
   ]
  },
  {
   "cell_type": "code",
   "execution_count": 40,
   "id": "a959046c",
   "metadata": {},
   "outputs": [
    {
     "data": {
      "text/plain": [
       "SOIN MAINS              231810\n",
       "HYDRATANT NOURISSANT    162539\n",
       "SOIN PIEDS ET JAMBES    108834\n",
       "SOIN CORPS                9995\n",
       "Name: MAILLE, dtype: int64"
      ]
     },
     "execution_count": 40,
     "metadata": {},
     "output_type": "execute_result"
    }
   ],
   "source": [
    "df[df['UNIVERS'] == 'HYDRATANT NOURRISSANT SOINS']['MAILLE'].value_counts()"
   ]
  },
  {
   "cell_type": "markdown",
   "id": "overall-nigeria",
   "metadata": {},
   "source": [
    "**Univers ONGLES**"
   ]
  },
  {
   "cell_type": "code",
   "execution_count": 41,
   "id": "opposed-military",
   "metadata": {},
   "outputs": [
    {
     "data": {
      "text/plain": [
       "Index(['ONG Vernis LUM', 'ONG AUTRES', 'ONG Vernis CN'], dtype='object')"
      ]
     },
     "execution_count": 41,
     "metadata": {},
     "output_type": "execute_result"
    }
   ],
   "source": [
    "df[df['UNIVERS'] == 'ONGLES']['MAILLE'].value_counts().index"
   ]
  },
  {
   "cell_type": "code",
   "execution_count": 42,
   "id": "personal-malpractice",
   "metadata": {},
   "outputs": [],
   "source": [
    "maille_ongles = {\n",
    "    'ONG Vernis LUM':'VERNIS',\n",
    "    'ONG AUTRES':'AUTRES',\n",
    "    'ONG Vernis CN':'VERNIS'\n",
    "}\n",
    "df['MAILLE'].replace(maille_ongles, inplace=True)"
   ]
  },
  {
   "cell_type": "code",
   "execution_count": 43,
   "id": "1f26d95c",
   "metadata": {},
   "outputs": [
    {
     "data": {
      "text/plain": [
       "VERNIS    356649\n",
       "AUTRES     99021\n",
       "Name: MAILLE, dtype: int64"
      ]
     },
     "execution_count": 43,
     "metadata": {},
     "output_type": "execute_result"
    }
   ],
   "source": [
    "df[df['UNIVERS'] == 'ONGLES']['MAILLE'].value_counts()"
   ]
  },
  {
   "cell_type": "markdown",
   "id": "after-latvia",
   "metadata": {},
   "source": [
    "**Univers ANTI-AGE ANTI-RIDE**"
   ]
  },
  {
   "cell_type": "code",
   "execution_count": 44,
   "id": "upset-graphics",
   "metadata": {},
   "outputs": [
    {
     "data": {
      "text/plain": [
       "Index(['CJOUR AAAR', 'DEMAQ AAAR', 'CNUIT AAAR', 'TRAIT AAAR', 'LOTIONS AAAR',\n",
       "       'MASQUE AAAR'],\n",
       "      dtype='object')"
      ]
     },
     "execution_count": 44,
     "metadata": {},
     "output_type": "execute_result"
    }
   ],
   "source": [
    "df[df['UNIVERS'] == 'ANTI-AGE ANTI-RIDES']['MAILLE'].value_counts().index"
   ]
  },
  {
   "cell_type": "code",
   "execution_count": 45,
   "id": "apparent-discretion",
   "metadata": {},
   "outputs": [],
   "source": [
    "maille_aaar = {\n",
    "    'CJOUR AAAR':'CREMES JOUR',\n",
    "    'DEMAQ AAAR':'DEMAQUILLANTS',\n",
    "    'CNUIT AAAR':'CREMES NUIT',\n",
    "    'TRAIT AAAR':'TRAITS', \n",
    "    'LOTIONS AAAR':'LOTIONS',\n",
    "    'MASQUE AAAR':'MASQUES'\n",
    "}"
   ]
  },
  {
   "cell_type": "code",
   "execution_count": 46,
   "id": "fiscal-hearing",
   "metadata": {},
   "outputs": [],
   "source": [
    "df['MAILLE'].replace(maille_aaar, inplace=True)"
   ]
  },
  {
   "cell_type": "code",
   "execution_count": 47,
   "id": "growing-refrigerator",
   "metadata": {},
   "outputs": [
    {
     "data": {
      "text/plain": [
       "CREMES JOUR      182740\n",
       "DEMAQUILLANTS     77767\n",
       "CREMES NUIT       51388\n",
       "TRAITS            48151\n",
       "LOTIONS           15415\n",
       "MASQUES            3348\n",
       "Name: MAILLE, dtype: int64"
      ]
     },
     "execution_count": 47,
     "metadata": {},
     "output_type": "execute_result"
    }
   ],
   "source": [
    "df[df['UNIVERS'] == 'ANTI-AGE ANTI-RIDES']['MAILLE'].value_counts()"
   ]
  },
  {
   "cell_type": "markdown",
   "id": "d4546e59",
   "metadata": {},
   "source": [
    "**Univers PARFUM**"
   ]
  },
  {
   "cell_type": "code",
   "execution_count": 48,
   "id": "e8e50a75",
   "metadata": {
    "scrolled": true
   },
   "outputs": [
    {
     "data": {
      "text/plain": [
       "Index(['PARF ET EAU DE PARF', 'EAUX PARFUMS', 'EAUX DE COLOGNE'], dtype='object')"
      ]
     },
     "execution_count": 48,
     "metadata": {},
     "output_type": "execute_result"
    }
   ],
   "source": [
    "df[df['UNIVERS'] == 'PARFUM']['MAILLE'].value_counts().index"
   ]
  },
  {
   "cell_type": "code",
   "execution_count": 49,
   "id": "e42f358f",
   "metadata": {},
   "outputs": [],
   "source": [
    "maille_parfum = {\n",
    "    'PARF ET EAU DE PARF': 'EAUX PARFUMS'\n",
    "}"
   ]
  },
  {
   "cell_type": "code",
   "execution_count": 50,
   "id": "6eda487f",
   "metadata": {},
   "outputs": [],
   "source": [
    "df['MAILLE'].replace(maille_parfum, inplace=True)"
   ]
  },
  {
   "cell_type": "code",
   "execution_count": 51,
   "id": "e5012f6a",
   "metadata": {
    "scrolled": true
   },
   "outputs": [
    {
     "data": {
      "text/plain": [
       "EAUX PARFUMS       269779\n",
       "EAUX DE COLOGNE     87883\n",
       "Name: MAILLE, dtype: int64"
      ]
     },
     "execution_count": 51,
     "metadata": {},
     "output_type": "execute_result"
    }
   ],
   "source": [
    "df[df['UNIVERS'] == 'PARFUM']['MAILLE'].value_counts()"
   ]
  },
  {
   "cell_type": "markdown",
   "id": "73da1cc7",
   "metadata": {},
   "source": [
    "**Univers TEINT**"
   ]
  },
  {
   "cell_type": "code",
   "execution_count": 52,
   "id": "3eeb82b3",
   "metadata": {},
   "outputs": [
    {
     "data": {
      "text/plain": [
       "Index(['TEINT Font teint', 'TEINT Poudres', 'TEINT Perfect Correcteur',\n",
       "       'TEINT Fard a joues'],\n",
       "      dtype='object')"
      ]
     },
     "execution_count": 52,
     "metadata": {},
     "output_type": "execute_result"
    }
   ],
   "source": [
    "df[df['UNIVERS'] == 'TEINT']['MAILLE'].value_counts().index"
   ]
  },
  {
   "cell_type": "code",
   "execution_count": 53,
   "id": "c7f5f8aa",
   "metadata": {},
   "outputs": [],
   "source": [
    "maille_teint = {\n",
    "    'TEINT Font teint': 'FONT DE TEINT',\n",
    "    'TEINT Poudres': 'POUDRES',\n",
    "    'TEINT Perfect Correcteur': 'CORRECTEUR',\n",
    "    'TEINT Fard a joues': 'FARD A JOUES'\n",
    "}"
   ]
  },
  {
   "cell_type": "code",
   "execution_count": 54,
   "id": "6eeffeb3",
   "metadata": {},
   "outputs": [],
   "source": [
    "df['MAILLE'].replace(maille_teint, inplace=True)"
   ]
  },
  {
   "cell_type": "code",
   "execution_count": 55,
   "id": "d8cc6660",
   "metadata": {
    "scrolled": true
   },
   "outputs": [
    {
     "data": {
      "text/plain": [
       "FONT DE TEINT    113721\n",
       "POUDRES           95276\n",
       "CORRECTEUR        54321\n",
       "FARD A JOUES      30982\n",
       "Name: MAILLE, dtype: int64"
      ]
     },
     "execution_count": 55,
     "metadata": {},
     "output_type": "execute_result"
    }
   ],
   "source": [
    "df[df['UNIVERS'] == 'TEINT']['MAILLE'].value_counts()"
   ]
  },
  {
   "cell_type": "markdown",
   "id": "3af3260e",
   "metadata": {},
   "source": [
    "**Univers LEVRES**"
   ]
  },
  {
   "cell_type": "code",
   "execution_count": 56,
   "id": "f51ffbfd",
   "metadata": {},
   "outputs": [
    {
     "data": {
      "text/plain": [
       "Index(['SOIN', 'LEV RAL Lum4', 'LEV BRILLANT', 'LEV RAL Brillance',\n",
       "       'LEV RAL Hydr', 'LEV RAL GrdRouge', 'LEV AUTRES', 'LEV RAL Autres'],\n",
       "      dtype='object')"
      ]
     },
     "execution_count": 56,
     "metadata": {},
     "output_type": "execute_result"
    }
   ],
   "source": [
    "df[df['UNIVERS'] == 'LEVRES']['MAILLE'].value_counts().index"
   ]
  },
  {
   "cell_type": "code",
   "execution_count": 57,
   "id": "8c3c6476",
   "metadata": {},
   "outputs": [],
   "source": [
    "maille_levres = {\n",
    "    'LEV RAL Lum4': 'ROUGE À LÈVRES',\n",
    "    'LEV BRILLANT': 'BRILLANT À LÈVRES',\n",
    "    'LEV RAL Brillance': 'ROUGE À LÈVRES',\n",
    "    'LEV RAL Hydr': 'ROUGE À LÈVRES',\n",
    "    'LEV RAL GrdRouge': 'ROUGE À LÈVRES',\n",
    "    'LEV AUTRES': 'AUTRES',\n",
    "    'LEV RAL Autres': 'ROUGE À LÈVRES',\n",
    "}"
   ]
  },
  {
   "cell_type": "code",
   "execution_count": 58,
   "id": "10388141",
   "metadata": {},
   "outputs": [],
   "source": [
    "df['MAILLE'].replace(maille_levres, inplace=True)"
   ]
  },
  {
   "cell_type": "code",
   "execution_count": 59,
   "id": "e10e891a",
   "metadata": {
    "scrolled": true
   },
   "outputs": [
    {
     "data": {
      "text/plain": [
       "SOIN                 238731\n",
       "ROUGE À LÈVRES       159913\n",
       "BRILLANT À LÈVRES     45155\n",
       "AUTRES                27952\n",
       "Name: MAILLE, dtype: int64"
      ]
     },
     "execution_count": 59,
     "metadata": {},
     "output_type": "execute_result"
    }
   ],
   "source": [
    "df[df['UNIVERS'] == 'LEVRES']['MAILLE'].value_counts()"
   ]
  },
  {
   "cell_type": "code",
   "execution_count": 60,
   "id": "ec7aaca4",
   "metadata": {
    "scrolled": true
   },
   "outputs": [
    {
     "data": {
      "text/plain": [
       "Index(['DEMAQ BLEUET', 'CNUIT Autres', 'LOTIONS Autres'], dtype='object')"
      ]
     },
     "execution_count": 60,
     "metadata": {},
     "output_type": "execute_result"
    }
   ],
   "source": [
    "df[df['UNIVERS'] == 'AUTRES']['MAILLE'].value_counts().index"
   ]
  },
  {
   "cell_type": "code",
   "execution_count": 61,
   "id": "be7b21e3",
   "metadata": {},
   "outputs": [],
   "source": [
    "maille_autres = {\n",
    "    'DEMAQ BLEUET': 'DEMAQUILLANT'\n",
    "}"
   ]
  },
  {
   "cell_type": "code",
   "execution_count": 62,
   "id": "49cf4c7e",
   "metadata": {},
   "outputs": [],
   "source": [
    "df['MAILLE'].replace(maille_autres, inplace=True)"
   ]
  },
  {
   "cell_type": "markdown",
   "id": "73ef71df",
   "metadata": {},
   "source": [
    "On supprime les mailles qui sont difficilement classables et qui ne resprésentent qu'une infime partie dans la données. ( < 100 lignes )"
   ]
  },
  {
   "cell_type": "code",
   "execution_count": 63,
   "id": "2a8634d0",
   "metadata": {},
   "outputs": [],
   "source": [
    "df = df[df['MAILLE'] != 'CNUIT Autres']\n",
    "df = df[df['MAILLE'] != 'LOTIONS Autres']"
   ]
  },
  {
   "cell_type": "code",
   "execution_count": 64,
   "id": "3364dbe2",
   "metadata": {
    "scrolled": false
   },
   "outputs": [
    {
     "data": {
      "text/plain": [
       "DEMAQUILLANT    175956\n",
       "Name: MAILLE, dtype: int64"
      ]
     },
     "execution_count": 64,
     "metadata": {},
     "output_type": "execute_result"
    }
   ],
   "source": [
    "df[df['UNIVERS'] == 'AUTRES']['MAILLE'].value_counts()"
   ]
  },
  {
   "cell_type": "markdown",
   "id": "b5dd6096",
   "metadata": {},
   "source": [
    "**Univers EAU DE TOILETTE**"
   ]
  },
  {
   "cell_type": "code",
   "execution_count": 65,
   "id": "e8df0254",
   "metadata": {
    "scrolled": true
   },
   "outputs": [
    {
     "data": {
      "text/plain": [
       "Index(['EAUX PLAISIR NATURE', 'EAUX MONOI', 'EAUX EDIT NOEL ETE',\n",
       "       'EAUX AUTRES'],\n",
       "      dtype='object')"
      ]
     },
     "execution_count": 65,
     "metadata": {},
     "output_type": "execute_result"
    }
   ],
   "source": [
    "df[df['UNIVERS'] == 'EAU DE TOILETTE']['MAILLE'].value_counts().index"
   ]
  },
  {
   "cell_type": "code",
   "execution_count": 66,
   "id": "99931274",
   "metadata": {},
   "outputs": [],
   "source": [
    "maille_eau_toilette = {\n",
    "    'EAUX PLAISIR NATURE': 'PLAISIRNATURE',\n",
    "    'EAUX MONOI': 'MONOI',\n",
    "    'EAUX EDIT NOEL ETE': 'EDITIONS SPECIALES'\n",
    "}"
   ]
  },
  {
   "cell_type": "code",
   "execution_count": 67,
   "id": "1de4e034",
   "metadata": {},
   "outputs": [],
   "source": [
    "df['MAILLE'].replace(maille_eau_toilette, inplace=True)"
   ]
  },
  {
   "cell_type": "markdown",
   "id": "2f526aaf",
   "metadata": {},
   "source": [
    "On supprime la maille EAUX AUTRES qui n'est pas explicite et qui ne représente qu'une infime partie du dataset. ( 34 lignes )"
   ]
  },
  {
   "cell_type": "code",
   "execution_count": 68,
   "id": "c57fae96",
   "metadata": {},
   "outputs": [],
   "source": [
    "df = df[df['MAILLE'] != 'EAUX AUTRES']"
   ]
  },
  {
   "cell_type": "code",
   "execution_count": 69,
   "id": "07ef1d1e",
   "metadata": {
    "scrolled": false
   },
   "outputs": [
    {
     "data": {
      "text/plain": [
       "PLAISIRNATURE         168525\n",
       "MONOI                  16662\n",
       "EDITIONS SPECIALES     16380\n",
       "Name: MAILLE, dtype: int64"
      ]
     },
     "execution_count": 69,
     "metadata": {},
     "output_type": "execute_result"
    }
   ],
   "source": [
    "df[df['UNIVERS'] == 'EAU DE TOILETTE']['MAILLE'].value_counts()"
   ]
  },
  {
   "cell_type": "markdown",
   "id": "cc213d19",
   "metadata": {},
   "source": [
    "**Univers SHAMPOING**"
   ]
  },
  {
   "cell_type": "code",
   "execution_count": 70,
   "id": "ad0d5624",
   "metadata": {
    "scrolled": true
   },
   "outputs": [
    {
     "data": {
      "text/plain": [
       "Index(['SHAMP SPECIFIQUE', 'SHAMP TSCHEVEUX', 'SHAMP TRAITANT'], dtype='object')"
      ]
     },
     "execution_count": 70,
     "metadata": {},
     "output_type": "execute_result"
    }
   ],
   "source": [
    "df[df['UNIVERS'] == 'SHAMPOING']['MAILLE'].value_counts().index"
   ]
  },
  {
   "cell_type": "code",
   "execution_count": 71,
   "id": "b4e3d639",
   "metadata": {},
   "outputs": [],
   "source": [
    "maille_shampoing = {\n",
    "    'SHAMP SPECIFIQUE': 'SPECIFIQUE',\n",
    "    'SHAMP TSCHEVEUX': 'TOUS CHEVEUX',\n",
    "    'SHAMP TRAITANT': 'TRAITANT'\n",
    "}"
   ]
  },
  {
   "cell_type": "code",
   "execution_count": 72,
   "id": "d33d23fb",
   "metadata": {},
   "outputs": [],
   "source": [
    "df['MAILLE'].replace(maille_shampoing, inplace=True)"
   ]
  },
  {
   "cell_type": "code",
   "execution_count": 73,
   "id": "f8dc8439",
   "metadata": {
    "scrolled": true
   },
   "outputs": [
    {
     "data": {
      "text/plain": [
       "SPECIFIQUE      69457\n",
       "TOUS CHEVEUX    68820\n",
       "TRAITANT        58959\n",
       "Name: MAILLE, dtype: int64"
      ]
     },
     "execution_count": 73,
     "metadata": {},
     "output_type": "execute_result"
    }
   ],
   "source": [
    "df[df['UNIVERS'] == 'SHAMPOING']['MAILLE'].value_counts()"
   ]
  },
  {
   "cell_type": "markdown",
   "id": "7e7f9f5f",
   "metadata": {},
   "source": [
    "**Univers LAIT HUILE**"
   ]
  },
  {
   "cell_type": "code",
   "execution_count": 74,
   "id": "4d62fdf6",
   "metadata": {
    "scrolled": false
   },
   "outputs": [
    {
     "data": {
      "text/plain": [
       "Index(['LAIT HUILE PLAISIRNATURE', 'LAIT HUILE PARFUMS', 'LAIT HUILE AUTRES',\n",
       "       'EAUX CORPS AUTRES'],\n",
       "      dtype='object')"
      ]
     },
     "execution_count": 74,
     "metadata": {},
     "output_type": "execute_result"
    }
   ],
   "source": [
    "df[df['UNIVERS'] == 'LAIT HUILE']['MAILLE'].value_counts().index"
   ]
  },
  {
   "cell_type": "code",
   "execution_count": 75,
   "id": "9902e086",
   "metadata": {},
   "outputs": [],
   "source": [
    "maille_huile = {\n",
    "    'LAIT HUILE PLAISIRNATURE': 'PLAISIRNATURE',\n",
    "    'LAIT HUILE PARFUMS': 'PARFUMEES',\n",
    "    'LAIT HUILE AUTRES': 'AUTRES',\n",
    "    'EAUX CORPS AUTRES': 'EAUX CORPS'\n",
    "}"
   ]
  },
  {
   "cell_type": "code",
   "execution_count": 76,
   "id": "be976092",
   "metadata": {},
   "outputs": [],
   "source": [
    "df['MAILLE'].replace(maille_huile, inplace=True)"
   ]
  },
  {
   "cell_type": "code",
   "execution_count": 77,
   "id": "e6e3f200",
   "metadata": {
    "scrolled": true
   },
   "outputs": [
    {
     "data": {
      "text/plain": [
       "PLAISIRNATURE    113045\n",
       "PARFUMEES         49314\n",
       "AUTRES            26727\n",
       "EAUX CORPS         4320\n",
       "Name: MAILLE, dtype: int64"
      ]
     },
     "execution_count": 77,
     "metadata": {},
     "output_type": "execute_result"
    }
   ],
   "source": [
    "df[df['UNIVERS'] == 'LAIT HUILE']['MAILLE'].value_counts()"
   ]
  },
  {
   "cell_type": "markdown",
   "id": "a19a4715",
   "metadata": {},
   "source": [
    "**Univers MONOI ET EDITIONS SPECIALES**"
   ]
  },
  {
   "cell_type": "code",
   "execution_count": 78,
   "id": "e9c948d9",
   "metadata": {
    "scrolled": true
   },
   "outputs": [
    {
     "data": {
      "text/plain": [
       "Index(['LAIT HUILE MONOI', 'EAUX CORPS MONOI'], dtype='object')"
      ]
     },
     "execution_count": 78,
     "metadata": {},
     "output_type": "execute_result"
    }
   ],
   "source": [
    "df[df['UNIVERS'] == 'MONOI ET EDITIONS SPECIALES']['MAILLE'].value_counts().index"
   ]
  },
  {
   "cell_type": "code",
   "execution_count": 79,
   "id": "a976afaf",
   "metadata": {},
   "outputs": [],
   "source": [
    "maille_monoi_spec = {\n",
    "    'DOUCHE EDT NOEL': 'DOUCHE EDITION NOEL',\n",
    "    'DOUCHE EDT ETE': 'DOUCHE EDITION ETE'\n",
    "}"
   ]
  },
  {
   "cell_type": "code",
   "execution_count": 80,
   "id": "4fd5cdce",
   "metadata": {},
   "outputs": [],
   "source": [
    "df['MAILLE'].replace(maille_monoi_spec, inplace=True)"
   ]
  },
  {
   "cell_type": "code",
   "execution_count": 81,
   "id": "30227da7",
   "metadata": {
    "scrolled": true
   },
   "outputs": [
    {
     "data": {
      "text/plain": [
       "LAIT HUILE MONOI    52991\n",
       "EAUX CORPS MONOI    20588\n",
       "Name: MAILLE, dtype: int64"
      ]
     },
     "execution_count": 81,
     "metadata": {},
     "output_type": "execute_result"
    }
   ],
   "source": [
    "df[df['UNIVERS'] == 'MONOI ET EDITIONS SPECIALES']['MAILLE'].value_counts()"
   ]
  },
  {
   "cell_type": "markdown",
   "id": "9749a35a",
   "metadata": {},
   "source": [
    "**Univers HOMMES**"
   ]
  },
  {
   "cell_type": "code",
   "execution_count": 82,
   "id": "fdbf8be6",
   "metadata": {},
   "outputs": [
    {
     "data": {
      "text/plain": [
       "Index(['EAUX HOMMES', 'SOIN HOMMES', 'APRES RASAGE', 'RASAGE'], dtype='object')"
      ]
     },
     "execution_count": 82,
     "metadata": {},
     "output_type": "execute_result"
    }
   ],
   "source": [
    "df[df['UNIVERS'] == 'HOMMES']['MAILLE'].value_counts().index"
   ]
  },
  {
   "cell_type": "code",
   "execution_count": 83,
   "id": "8d5b5582",
   "metadata": {},
   "outputs": [],
   "source": [
    "maille_hommes = {\n",
    "    'DOUCHE HOMMES': 'DOUCHE',\n",
    "    'EAUX HOMMES': 'EAUX',\n",
    "    'SOIN HOMMES': 'SOIN',\n",
    "    'DEO HOMMES': 'DEO'\n",
    "}"
   ]
  },
  {
   "cell_type": "code",
   "execution_count": 84,
   "id": "62a744f8",
   "metadata": {},
   "outputs": [],
   "source": [
    "df['MAILLE'].replace(maille_hommes, inplace=True)"
   ]
  },
  {
   "cell_type": "code",
   "execution_count": 85,
   "id": "4ce4f556",
   "metadata": {
    "scrolled": true
   },
   "outputs": [
    {
     "data": {
      "text/plain": [
       "EAUX            56550\n",
       "SOIN            30337\n",
       "APRES RASAGE    12274\n",
       "RASAGE           8667\n",
       "Name: MAILLE, dtype: int64"
      ]
     },
     "execution_count": 85,
     "metadata": {},
     "output_type": "execute_result"
    }
   ],
   "source": [
    "df[df['UNIVERS'] == 'HOMMES']['MAILLE'].value_counts()"
   ]
  },
  {
   "cell_type": "markdown",
   "id": "72eafc3a",
   "metadata": {},
   "source": [
    "**Univers PARFUMEE**"
   ]
  },
  {
   "cell_type": "code",
   "execution_count": 86,
   "id": "0a086347",
   "metadata": {
    "scrolled": true
   },
   "outputs": [
    {
     "data": {
      "text/plain": [
       "Index([], dtype='object')"
      ]
     },
     "execution_count": 86,
     "metadata": {},
     "output_type": "execute_result"
    }
   ],
   "source": [
    "df[df['UNIVERS'] == 'PARFUMEE']['MAILLE'].value_counts().index"
   ]
  },
  {
   "cell_type": "code",
   "execution_count": 87,
   "id": "c4c0a792",
   "metadata": {},
   "outputs": [],
   "source": [
    "maille_solaire = {\n",
    "    'DOUCHE PARFUMS': 'DOUCHE',\n",
    "    'DEO PARFUMS': 'DEO'\n",
    "}"
   ]
  },
  {
   "cell_type": "code",
   "execution_count": 88,
   "id": "66baa353",
   "metadata": {},
   "outputs": [],
   "source": [
    "df['MAILLE'].replace(maille_solaire, inplace=True)"
   ]
  },
  {
   "cell_type": "code",
   "execution_count": 89,
   "id": "f77a110c",
   "metadata": {
    "scrolled": true
   },
   "outputs": [
    {
     "data": {
      "text/plain": [
       "Series([], Name: MAILLE, dtype: int64)"
      ]
     },
     "execution_count": 89,
     "metadata": {},
     "output_type": "execute_result"
    }
   ],
   "source": [
    "df[df['UNIVERS'] == 'PARFUMEE']['MAILLE'].value_counts()"
   ]
  },
  {
   "cell_type": "markdown",
   "id": "79620420",
   "metadata": {},
   "source": [
    "**Univers AUTRES**"
   ]
  },
  {
   "cell_type": "code",
   "execution_count": 90,
   "id": "540b63b9",
   "metadata": {
    "scrolled": true
   },
   "outputs": [
    {
     "data": {
      "text/plain": [
       "Index(['DEMAQUILLANT'], dtype='object')"
      ]
     },
     "execution_count": 90,
     "metadata": {},
     "output_type": "execute_result"
    }
   ],
   "source": [
    "df[df['UNIVERS'] == 'AUTRES']['MAILLE'].value_counts().index"
   ]
  },
  {
   "cell_type": "code",
   "execution_count": 91,
   "id": "982333ee",
   "metadata": {},
   "outputs": [],
   "source": [
    "maille_autres = {\n",
    "    'DEMAQ BLEUET': 'DEMAQUILLANT'\n",
    "}"
   ]
  },
  {
   "cell_type": "code",
   "execution_count": 92,
   "id": "f8ac6b1a",
   "metadata": {},
   "outputs": [],
   "source": [
    "df['MAILLE'].replace(maille_autres, inplace=True)"
   ]
  },
  {
   "cell_type": "markdown",
   "id": "f0df8c5a",
   "metadata": {},
   "source": [
    "On supprime les mailles qui sont difficilement classables et qui ne resprésentent qu'une infime partie dans la données. ( < 100 lignes )"
   ]
  },
  {
   "cell_type": "code",
   "execution_count": 93,
   "id": "ae5ac098",
   "metadata": {},
   "outputs": [],
   "source": [
    "df = df[df['MAILLE'] != 'CNUIT Autres']\n",
    "df = df[df['MAILLE'] != 'LOTIONS Autres']"
   ]
  },
  {
   "cell_type": "code",
   "execution_count": 94,
   "id": "c08907e0",
   "metadata": {
    "scrolled": false
   },
   "outputs": [
    {
     "data": {
      "text/plain": [
       "DEMAQUILLANT    175956\n",
       "Name: MAILLE, dtype: int64"
      ]
     },
     "execution_count": 94,
     "metadata": {},
     "output_type": "execute_result"
    }
   ],
   "source": [
    "df[df['UNIVERS'] == 'AUTRES']['MAILLE'].value_counts()"
   ]
  },
  {
   "cell_type": "markdown",
   "id": "6b1c97d3",
   "metadata": {},
   "source": [
    "**Univers CHEVEUX**"
   ]
  },
  {
   "cell_type": "code",
   "execution_count": 95,
   "id": "6a875d70",
   "metadata": {},
   "outputs": [
    {
     "data": {
      "text/plain": [
       "Index(['AP SHAMP', 'TRAITEMENT', 'TENUE DE LA COIFFURE', 'Autres'], dtype='object')"
      ]
     },
     "execution_count": 95,
     "metadata": {},
     "output_type": "execute_result"
    }
   ],
   "source": [
    "df[df['UNIVERS'] == 'CHEVEUX']['MAILLE'].value_counts().index"
   ]
  },
  {
   "cell_type": "code",
   "execution_count": 96,
   "id": "4bb108e2",
   "metadata": {},
   "outputs": [],
   "source": [
    "maille_cheveux = {\n",
    "    'AP SHAMP': 'APRES SHAMPOING',\n",
    "    'Autres': 'AUTRES'\n",
    "}"
   ]
  },
  {
   "cell_type": "code",
   "execution_count": 97,
   "id": "0b1a841e",
   "metadata": {},
   "outputs": [],
   "source": [
    "df['MAILLE'].replace(maille_cheveux, inplace=True)"
   ]
  },
  {
   "cell_type": "code",
   "execution_count": 98,
   "id": "fbbb493a",
   "metadata": {},
   "outputs": [
    {
     "data": {
      "text/plain": [
       "APRES SHAMPOING         52126\n",
       "TRAITEMENT              34608\n",
       "TENUE DE LA COIFFURE    17395\n",
       "AUTRES                   6264\n",
       "Name: MAILLE, dtype: int64"
      ]
     },
     "execution_count": 98,
     "metadata": {},
     "output_type": "execute_result"
    }
   ],
   "source": [
    "df[df['UNIVERS'] == 'CHEVEUX']['MAILLE'].value_counts()"
   ]
  },
  {
   "cell_type": "markdown",
   "id": "baf620a2",
   "metadata": {},
   "source": [
    "**Univers NETTOYANT**"
   ]
  },
  {
   "cell_type": "code",
   "execution_count": 99,
   "id": "5a3ea31e",
   "metadata": {
    "scrolled": true
   },
   "outputs": [
    {
     "data": {
      "text/plain": [
       "Index(['DEMAQ PUR', 'CJOUR PUR', 'MASQUE PUR'], dtype='object')"
      ]
     },
     "execution_count": 99,
     "metadata": {},
     "output_type": "execute_result"
    }
   ],
   "source": [
    "df[df['UNIVERS'] == 'NETTOYANT']['MAILLE'].value_counts().index"
   ]
  },
  {
   "cell_type": "code",
   "execution_count": 100,
   "id": "9545113e",
   "metadata": {},
   "outputs": [],
   "source": [
    "maille_pur = {\n",
    "    'DEMAQ PUR': 'DEMAQUILLANT',\n",
    "    'CJOUR PUR': 'CREMES DE JOUR',\n",
    "    'MASQUE PUR': 'MASQUE'\n",
    "}"
   ]
  },
  {
   "cell_type": "code",
   "execution_count": 101,
   "id": "8e94bea2",
   "metadata": {},
   "outputs": [],
   "source": [
    "df['MAILLE'].replace(maille_pur, inplace=True)"
   ]
  },
  {
   "cell_type": "code",
   "execution_count": 102,
   "id": "7628155c",
   "metadata": {
    "scrolled": true
   },
   "outputs": [
    {
     "data": {
      "text/plain": [
       "DEMAQUILLANT      120622\n",
       "CREMES DE JOUR     41445\n",
       "MASQUE             17590\n",
       "Name: MAILLE, dtype: int64"
      ]
     },
     "execution_count": 102,
     "metadata": {},
     "output_type": "execute_result"
    }
   ],
   "source": [
    "df[df['UNIVERS'] == 'NETTOYANT']['MAILLE'].value_counts()"
   ]
  },
  {
   "cell_type": "markdown",
   "id": "07229710",
   "metadata": {},
   "source": [
    "Le démaquillant de l'univers AUTRES peut être ajouté dans cette univers."
   ]
  },
  {
   "cell_type": "code",
   "execution_count": 103,
   "id": "2592852a",
   "metadata": {},
   "outputs": [],
   "source": [
    "df.loc[(df['UNIVERS'] == \"AUTRES\") &(df['MAILLE'] == \"DEMAQUILLANT\"), 'UNIVERS'] = 'NETTOYANT'"
   ]
  },
  {
   "cell_type": "markdown",
   "id": "25031b83",
   "metadata": {},
   "source": [
    "**Univers BIO**"
   ]
  },
  {
   "cell_type": "code",
   "execution_count": 104,
   "id": "6896c84f",
   "metadata": {
    "scrolled": true
   },
   "outputs": [
    {
     "data": {
      "text/plain": [
       "Index(['CJOUR BIO', 'DEMAQ BIO', 'CNUIT BIO', 'TRAIT BIO', 'LOTIONS BIO'], dtype='object')"
      ]
     },
     "execution_count": 104,
     "metadata": {},
     "output_type": "execute_result"
    }
   ],
   "source": [
    "df[df['UNIVERS'] == 'BIO']['MAILLE'].value_counts().index"
   ]
  },
  {
   "cell_type": "code",
   "execution_count": 105,
   "id": "30fbd105",
   "metadata": {},
   "outputs": [],
   "source": [
    "maille_spa = {\n",
    "    'DOUCHE CULTUREBIO': 'DOUCHE CULTUREBIO',\n",
    "    'DEO CULTURE BIO': 'DEO CULTUREBIO',\n",
    "    'CJOUR BIO': 'CREME DE JOUR',\n",
    "    'DEMAQ BIO': 'DEMAQUILLANT',\n",
    "    'CNUIT BIO': 'CREME DE NUIT',\n",
    "    'TRAIT BIO': 'TRAITEMENT',\n",
    "    'LOTIONS BIO': 'LOTIONS'\n",
    "}"
   ]
  },
  {
   "cell_type": "code",
   "execution_count": 106,
   "id": "5f62fbf9",
   "metadata": {},
   "outputs": [],
   "source": [
    "df['MAILLE'].replace(maille_spa, inplace=True)"
   ]
  },
  {
   "cell_type": "code",
   "execution_count": 107,
   "id": "7d7d086d",
   "metadata": {
    "scrolled": true
   },
   "outputs": [
    {
     "data": {
      "text/plain": [
       "CREME DE JOUR    6460\n",
       "DEMAQUILLANT     2255\n",
       "CREME DE NUIT     394\n",
       "TRAITEMENT        325\n",
       "LOTIONS             1\n",
       "Name: MAILLE, dtype: int64"
      ]
     },
     "execution_count": 107,
     "metadata": {},
     "output_type": "execute_result"
    }
   ],
   "source": [
    "df[df['UNIVERS'] == 'BIO']['MAILLE'].value_counts()"
   ]
  },
  {
   "cell_type": "code",
   "execution_count": 108,
   "id": "96e59a15",
   "metadata": {
    "scrolled": false
   },
   "outputs": [
    {
     "name": "stdout",
     "output_type": "stream",
     "text": [
      "ANTI-AGE ANTI-RIDES\n",
      "-----\n",
      "CREMES JOUR      182740\n",
      "DEMAQUILLANTS     77767\n",
      "CREMES NUIT       51388\n",
      "TRAITS            48151\n",
      "LOTIONS           15415\n",
      "MASQUES            3348\n",
      "Name: MAILLE, dtype: int64\n",
      "    \n",
      "BIO\n",
      "-----\n",
      "CREME DE JOUR    6460\n",
      "DEMAQUILLANT     2255\n",
      "CREME DE NUIT     394\n",
      "TRAITEMENT        325\n",
      "LOTIONS             1\n",
      "Name: MAILLE, dtype: int64\n",
      "    \n",
      "CHEVEUX\n",
      "-----\n",
      "APRES SHAMPOING         52126\n",
      "TRAITEMENT              34608\n",
      "TENUE DE LA COIFFURE    17395\n",
      "AUTRES                   6264\n",
      "Name: MAILLE, dtype: int64\n",
      "    \n",
      "DEO\n",
      "-----\n",
      "JARDIMONDE     69757\n",
      "PARFUMEE       40653\n",
      "HOMMES         26506\n",
      "CULTURE BIO    11549\n",
      "AUTRES             8\n",
      "Name: MAILLE, dtype: int64\n",
      "    \n",
      "DOUCHE\n",
      "-----\n",
      "JARDIMONDE         762858\n",
      "PLAISIRNATURE      376849\n",
      "EDITION NOEL       150214\n",
      "PARFUMEE           101568\n",
      "MONOI               64402\n",
      "HOMMES              58037\n",
      "CULTURE BIO         51642\n",
      "HAMMAM              30611\n",
      "EDITION ETE         26778\n",
      "FRAICHEUR VEGAN     15180\n",
      "AUTRES              10314\n",
      "Name: MAILLE, dtype: int64\n",
      "    \n",
      "EAU DE TOILETTE\n",
      "-----\n",
      "PLAISIRNATURE         168525\n",
      "MONOI                  16662\n",
      "EDITIONS SPECIALES     16380\n",
      "Name: MAILLE, dtype: int64\n",
      "    \n",
      "HOMMES\n",
      "-----\n",
      "EAUX            56550\n",
      "SOIN            30337\n",
      "APRES RASAGE    12274\n",
      "RASAGE           8667\n",
      "Name: MAILLE, dtype: int64\n",
      "    \n",
      "HYDRATANT NOURRISSANT SOINS\n",
      "-----\n",
      "SOIN MAINS              231810\n",
      "HYDRATANT NOURISSANT    162539\n",
      "SOIN PIEDS ET JAMBES    108834\n",
      "SOIN CORPS                9995\n",
      "Name: MAILLE, dtype: int64\n",
      "    \n",
      "JEUNES\n",
      "-----\n",
      "MASQUES          140993\n",
      "DEMAQUILLANT     132980\n",
      "CREMES JOUR      126859\n",
      "LOTIONS           42412\n",
      "TRAITS            33301\n",
      "CREMES NUIT        4529\n",
      "DEMAQUILLANTS         3\n",
      "Name: MAILLE, dtype: int64\n",
      "    \n",
      "LAIT HUILE\n",
      "-----\n",
      "PLAISIRNATURE    113045\n",
      "PARFUMEES         49314\n",
      "AUTRES            26727\n",
      "EAUX CORPS         4320\n",
      "Name: MAILLE, dtype: int64\n",
      "    \n",
      "LEVRES\n",
      "-----\n",
      "SOIN                 238731\n",
      "ROUGE À LÈVRES       159913\n",
      "BRILLANT À LÈVRES     45155\n",
      "AUTRES                27952\n",
      "Name: MAILLE, dtype: int64\n",
      "    \n",
      "MONOI ET EDITIONS SPECIALES\n",
      "-----\n",
      "LAIT HUILE MONOI    52991\n",
      "EAUX CORPS MONOI    20588\n",
      "Name: MAILLE, dtype: int64\n",
      "    \n",
      "NETTOYANT\n",
      "-----\n",
      "DEMAQUILLANT      296578\n",
      "CREMES DE JOUR     41445\n",
      "MASQUE             17590\n",
      "Name: MAILLE, dtype: int64\n",
      "    \n",
      "ONGLES\n",
      "-----\n",
      "VERNIS    356649\n",
      "AUTRES     99021\n",
      "Name: MAILLE, dtype: int64\n",
      "    \n",
      "PARFUM\n",
      "-----\n",
      "EAUX PARFUMS       269779\n",
      "EAUX DE COLOGNE     87883\n",
      "Name: MAILLE, dtype: int64\n",
      "    \n",
      "PLAISIRNATURE\n",
      "-----\n",
      "BAIN      155058\n",
      "SAVONS    134426\n",
      "Name: MAILLE, dtype: int64\n",
      "    \n",
      "SHAMPOING\n",
      "-----\n",
      "SPECIFIQUE      69457\n",
      "TOUS CHEVEUX    68820\n",
      "TRAITANT        58959\n",
      "Name: MAILLE, dtype: int64\n",
      "    \n",
      "SOLAIRE\n",
      "-----\n",
      "APRES SOLEIL            80705\n",
      "PROTECTEURS SOLAIRES    41441\n",
      "AUTOBRONZANTS           31108\n",
      "Name: MAILLE, dtype: int64\n",
      "    \n",
      "SPA ET MINCEUR\n",
      "-----\n",
      "EXFOLIANT CORPS     50150\n",
      "PRODUITS MINCEUR    32439\n",
      "SOINS HAMMAM        16171\n",
      "Name: MAILLE, dtype: int64\n",
      "    \n",
      "TEINT\n",
      "-----\n",
      "FONT DE TEINT    113721\n",
      "POUDRES           95276\n",
      "CORRECTEUR        54321\n",
      "FARD A JOUES      30982\n",
      "Name: MAILLE, dtype: int64\n",
      "    \n",
      "YEUX\n",
      "-----\n",
      "MASCARA     204957\n",
      "STYLOS      151146\n",
      "CRAYONS     137868\n",
      "FARD        129906\n",
      "EYELINER     57545\n",
      "SOURCILS     24074\n",
      "AUTRES           1\n",
      "Name: MAILLE, dtype: int64\n",
      "    \n"
     ]
    }
   ],
   "source": [
    "univers = df['UNIVERS'].value_counts().sort_index().index\n",
    "for uni in univers:\n",
    "    print(uni)\n",
    "    print('-----')\n",
    "    print(df[df['UNIVERS'] == uni]['MAILLE'].value_counts())\n",
    "    print('    ')"
   ]
  }
 ],
 "metadata": {
  "kernelspec": {
   "display_name": "Python 3 (ipykernel)",
   "language": "python",
   "name": "python3"
  },
  "language_info": {
   "codemirror_mode": {
    "name": "ipython",
    "version": 3
   },
   "file_extension": ".py",
   "mimetype": "text/x-python",
   "name": "python",
   "nbconvert_exporter": "python",
   "pygments_lexer": "ipython3",
   "version": "3.9.7"
  }
 },
 "nbformat": 4,
 "nbformat_minor": 5
}
