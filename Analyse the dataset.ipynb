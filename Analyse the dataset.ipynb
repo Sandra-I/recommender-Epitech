{
 "cells": [
  {
   "cell_type": "markdown",
   "id": "restricted-break",
   "metadata": {},
   "source": [
    "# Analyse du jeu de données\n",
    "\n",
    "Le but de ce notebook est d'analyser le jeu de données afin d'identifier les incohérences et établir une stratégie afin de le nettoyer.\n",
    "\n",
    "## Importation des modules et du dataset"
   ]
  },
  {
   "cell_type": "code",
   "execution_count": 1,
   "id": "incoming-bonus",
   "metadata": {},
   "outputs": [
    {
     "ename": "ModuleNotFoundError",
     "evalue": "No module named 'pandas'",
     "output_type": "error",
     "traceback": [
      "\u001b[0;31m---------------------------------------------------------------------------\u001b[0m",
      "\u001b[0;31mModuleNotFoundError\u001b[0m                       Traceback (most recent call last)",
      "\u001b[0;32m/tmp/ipykernel_16358/687462750.py\u001b[0m in \u001b[0;36m<module>\u001b[0;34m\u001b[0m\n\u001b[0;32m----> 1\u001b[0;31m \u001b[0;32mimport\u001b[0m \u001b[0mpandas\u001b[0m \u001b[0;32mas\u001b[0m \u001b[0mpd\u001b[0m\u001b[0;34m\u001b[0m\u001b[0;34m\u001b[0m\u001b[0m\n\u001b[0m\u001b[1;32m      2\u001b[0m \u001b[0;32mimport\u001b[0m \u001b[0mmatplotlib\u001b[0m\u001b[0;34m.\u001b[0m\u001b[0mpyplot\u001b[0m \u001b[0;32mas\u001b[0m \u001b[0mplt\u001b[0m\u001b[0;34m\u001b[0m\u001b[0;34m\u001b[0m\u001b[0m\n\u001b[1;32m      3\u001b[0m \u001b[0;32mimport\u001b[0m \u001b[0mseaborn\u001b[0m \u001b[0;32mas\u001b[0m \u001b[0msns\u001b[0m\u001b[0;34m\u001b[0m\u001b[0;34m\u001b[0m\u001b[0m\n",
      "\u001b[0;31mModuleNotFoundError\u001b[0m: No module named 'pandas'"
     ]
    }
   ],
   "source": [
    "import pandas as pd\n",
    "import matplotlib.pyplot as plt\n",
    "import seaborn as sns"
   ]
  },
  {
   "cell_type": "code",
   "execution_count": null,
   "id": "silent-founder",
   "metadata": {},
   "outputs": [],
   "source": [
    "pd.set_option('display.max_rows', 200)"
   ]
  },
  {
   "cell_type": "code",
   "execution_count": null,
   "id": "settled-eugene",
   "metadata": {},
   "outputs": [],
   "source": [
    "df = pd.read_csv('KaDo.csv')"
   ]
  },
  {
   "cell_type": "code",
   "execution_count": null,
   "id": "trained-brisbane",
   "metadata": {
    "scrolled": true
   },
   "outputs": [],
   "source": [
    "df.info()"
   ]
  },
  {
   "cell_type": "markdown",
   "id": "monetary-triumph",
   "metadata": {},
   "source": [
    "Le jeu de données contient 8 colonnes et plus de 7.2 millions d'entrées. Chaque entrée correspond à un article vendu avec les informations sur son prix, le mois de la vente, ses catégories, l'id du ticket et l'id du client.\n",
    "\n",
    "## Analyse colonne par colonne\n",
    "\n",
    "### Colonne TICKET_ID"
   ]
  },
  {
   "cell_type": "code",
   "execution_count": null,
   "id": "perceived-deputy",
   "metadata": {},
   "outputs": [],
   "source": [
    "df['TICKET_ID'].value_counts()"
   ]
  },
  {
   "cell_type": "markdown",
   "id": "married-bidder",
   "metadata": {},
   "source": [
    "Il y a 2 734 841 tickets différents, le plus gros panier contient 225 articles et les plus petits paniers contiennent un seul articles.\n",
    "\n",
    "Rien de surprenant à ce niveau, un panier de 0 articles ou avec une valeurs extremement grande ou négative aurait attiré notre attention mais d'après cette première analyse on peut considérer que la colonnes ticket_id est propre.\n",
    "\n",
    "\n",
    "### Colonne MOIS_VENTE"
   ]
  },
  {
   "cell_type": "code",
   "execution_count": null,
   "id": "answering-jackson",
   "metadata": {},
   "outputs": [],
   "source": [
    "df['MOIS_VENTE'].value_counts()"
   ]
  },
  {
   "cell_type": "markdown",
   "id": "defined-effects",
   "metadata": {},
   "source": [
    "Ici nous avons bien des valeurs allant de 1 à 12 correspondant à chaque mois de l'année. A 1ère vue, le plus gros mois en terme de volume d'articles est Décembre ce qui corresponds aux fêtes de Noël.\n",
    "\n",
    "On peut considérer que cette colonnes est propre. Elle devra cependant être converti en variable muette si on veut utiliser un algorithme de Machine Learning.\n",
    "\n",
    "### Colonne PRIX_NET"
   ]
  },
  {
   "cell_type": "code",
   "execution_count": null,
   "id": "japanese-method",
   "metadata": {},
   "outputs": [],
   "source": [
    "df['PRIX_NET'].value_counts().sort_index()"
   ]
  },
  {
   "cell_type": "markdown",
   "id": "environmental-evans",
   "metadata": {},
   "source": [
    "Le prix des articles du shop vont de 0.01 euro à 1575 euros.\n",
    "\n",
    "### Analyse des produits valant 0.01 euro"
   ]
  },
  {
   "cell_type": "code",
   "execution_count": null,
   "id": "utility-monroe",
   "metadata": {},
   "outputs": [],
   "source": [
    "df[df['PRIX_NET'] == 0.01]"
   ]
  },
  {
   "cell_type": "code",
   "execution_count": null,
   "id": "casual-elephant",
   "metadata": {},
   "outputs": [],
   "source": [
    "df[df['LIBELLE'] == 'MASQUE PURE SYSTEM T50 50ML']['PRIX_NET'].value_counts()"
   ]
  },
  {
   "cell_type": "markdown",
   "id": "natural-preview",
   "metadata": {},
   "source": [
    "On remarque qu'un meme article peut-être vendu entre 59.4 et 0.01. Un travail devra surement être fait lors de l'analyse afin d'homogénéiser les prix.\n",
    "\n",
    "### Colonnes FAMILLE"
   ]
  },
  {
   "cell_type": "code",
   "execution_count": null,
   "id": "powerful-tuner",
   "metadata": {},
   "outputs": [],
   "source": [
    "familles = df['FAMILLE'].value_counts().index\n",
    "for famille in familles:\n",
    "    print(famille)\n",
    "    print('------------')\n",
    "    print(df[df['FAMILLE'] == famille]['UNIVERS'].value_counts())\n",
    "    print('   ')"
   ]
  },
  {
   "cell_type": "code",
   "execution_count": null,
   "id": "rising-tuition",
   "metadata": {
    "scrolled": true
   },
   "outputs": [],
   "source": [
    "familles = df['FAMILLE'].value_counts().index\n",
    "for famille in familles:\n",
    "    print(famille)\n",
    "    print('------------')\n",
    "    print(df[df['FAMILLE'] == famille]['MAILLE'].value_counts())\n",
    "    print('   ')"
   ]
  },
  {
   "cell_type": "code",
   "execution_count": null,
   "id": "loving-richardson",
   "metadata": {},
   "outputs": [],
   "source": [
    "df['FAMILLE'].value_counts()"
   ]
  },
  {
   "cell_type": "markdown",
   "id": "seven-correlation",
   "metadata": {},
   "source": [
    "On remarque ici qu'une famille contient bien plusieurs univers et plusieurs maille. Famille est donc la catégorie la plus large.\n",
    "\n",
    "On remarque aussi que les familles MULTI FAMILLES et SANTE NATURELLE comprote que très peu d'articles. On poura donc se permettre de les supprimers\n",
    "\n",
    "### Colonne UNIVERS et MAILLE"
   ]
  },
  {
   "cell_type": "code",
   "execution_count": null,
   "id": "satellite-restriction",
   "metadata": {},
   "outputs": [],
   "source": [
    "df['MAILLE'].value_counts()"
   ]
  },
  {
   "cell_type": "code",
   "execution_count": null,
   "id": "historic-habitat",
   "metadata": {},
   "outputs": [],
   "source": [
    "univers = df['UNIVERS'].value_counts().index\n",
    "for uni in univers:\n",
    "    print(uni)\n",
    "    print('-----')\n",
    "    print(df[df['UNIVERS'] == uni]['MAILLE'].value_counts())\n",
    "    print('    ')"
   ]
  },
  {
   "cell_type": "code",
   "execution_count": null,
   "id": "virgin-georgia",
   "metadata": {
    "scrolled": false
   },
   "outputs": [],
   "source": [
    "mailles = df['MAILLE'].value_counts().index\n",
    "for maille in mailles:\n",
    "    print(maille)\n",
    "    print('-----')\n",
    "    print(df[df['MAILLE'] == maille]['UNIVERS'].value_counts())\n",
    "    print('    ')"
   ]
  },
  {
   "cell_type": "code",
   "execution_count": null,
   "id": "impaired-heather",
   "metadata": {},
   "outputs": [],
   "source": [
    "df['UNIVERS'].value_counts()"
   ]
  },
  {
   "cell_type": "code",
   "execution_count": null,
   "id": "charged-soviet",
   "metadata": {},
   "outputs": [],
   "source": [
    "df['MAILLE'].value_counts()"
   ]
  },
  {
   "cell_type": "markdown",
   "id": "iraqi-hotel",
   "metadata": {},
   "source": [
    "On remarque qu'un univers n'a qu'une seule maille mais qu'une maille a plusieurs univers. Cela va à l'encontre du sujet qui indique que l'univers doit englober plusieurs mailles.\n",
    "\n",
    "On peut donc en déduire que le nom des colonnes maille et univers ont été inversé.\n",
    "\n",
    "On remarque egalement que certains univers ou mailles sont en double (HOMME, HOMMES) et que certaines catégories sont flous\n",
    "\n",
    "## Conclusion\n",
    "\n",
    "Après analyse, on se rend compte qu'un gros travail de nettoyage au niveau des catégories doit être fait."
   ]
  }
 ],
 "metadata": {
  "kernelspec": {
   "display_name": "Python 3 (ipykernel)",
   "language": "python",
   "name": "python3"
  },
  "language_info": {
   "codemirror_mode": {
    "name": "ipython",
    "version": 3
   },
   "file_extension": ".py",
   "mimetype": "text/x-python",
   "name": "python",
   "nbconvert_exporter": "python",
   "pygments_lexer": "ipython3",
   "version": "3.9.7"
  }
 },
 "nbformat": 4,
 "nbformat_minor": 5
}
